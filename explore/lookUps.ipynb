{
 "cells": [
  {
   "cell_type": "markdown",
   "id": "8c81edc8",
   "metadata": {},
   "source": [
    "using R after dataframes to flag relavance"
   ]
  },
  {
   "cell_type": "code",
   "execution_count": null,
   "id": "b894fb44",
   "metadata": {},
   "outputs": [],
   "source": [
    "import numpy as np\n",
    "import pandas as pd\n",
    "import matplotlib.pyplot as plt"
   ]
  },
  {
   "cell_type": "markdown",
   "id": "2b331b87",
   "metadata": {},
   "source": [
    "Player Information"
   ]
  },
  {
   "cell_type": "code",
   "execution_count": 3,
   "id": "fba3f154",
   "metadata": {},
   "outputs": [],
   "source": [
    "df_PlayerInformation = pd.read_csv(\"/Users/puravpatel/Documents/Programming/Data-Engineering/raw_data/csv/common_player_info.csv\")"
   ]
  },
  {
   "cell_type": "code",
   "execution_count": 6,
   "id": "9b826be8",
   "metadata": {},
   "outputs": [
    {
     "name": "stdout",
     "output_type": "stream",
     "text": [
      "Index(['person_id', 'first_name', 'last_name', 'display_first_last',\n",
      "       'display_last_comma_first', 'display_fi_last', 'player_slug',\n",
      "       'birthdate', 'school', 'country', 'last_affiliation', 'height',\n",
      "       'weight', 'season_exp', 'jersey', 'position', 'rosterstatus',\n",
      "       'games_played_current_season_flag', 'team_id', 'team_name',\n",
      "       'team_abbreviation', 'team_code', 'team_city', 'playercode',\n",
      "       'from_year', 'to_year', 'dleague_flag', 'nba_flag', 'games_played_flag',\n",
      "       'draft_year', 'draft_round', 'draft_number', 'greatest_75_flag'],\n",
      "      dtype='object')\n"
     ]
    }
   ],
   "source": [
    "print(df_PlayerInformation.columns)"
   ]
  },
  {
   "cell_type": "code",
   "execution_count": null,
   "id": "d1565166",
   "metadata": {},
   "outputs": [],
   "source": [
    "# available relavant fields : person_id, first_name, last_name. birthdate, school, country, last_affiliation, height, weight, season_exp, jersey, position, rosterstatus, team_id, team_name\n",
    "#                             team_code, playercode, from_year, to_year, games_played_flag, draft_year, draft, round, draft_number"
   ]
  },
  {
   "cell_type": "code",
   "execution_count": 8,
   "id": "cd001e45",
   "metadata": {},
   "outputs": [],
   "source": [
    "df_PlayerInformation_R = df_PlayerInformation[['person_id', 'first_name', 'last_name', \n",
    "       'birthdate', 'school', 'country', 'last_affiliation', 'height',\n",
    "       'weight', 'season_exp', 'jersey', 'position', 'rosterstatus',\n",
    "       'games_played_current_season_flag', 'team_id', 'team_name',\n",
    "       'team_code', 'playercode',\n",
    "       'from_year', 'to_year', 'games_played_flag',\n",
    "       'draft_year', 'draft_round', 'draft_number', 'greatest_75_flag']]"
   ]
  },
  {
   "cell_type": "code",
   "execution_count": null,
   "id": "6e972e3e",
   "metadata": {},
   "outputs": [],
   "source": []
  }
 ],
 "metadata": {
  "kernelspec": {
   "display_name": "Python 3",
   "language": "python",
   "name": "python3"
  },
  "language_info": {
   "codemirror_mode": {
    "name": "ipython",
    "version": 3
   },
   "file_extension": ".py",
   "mimetype": "text/x-python",
   "name": "python",
   "nbconvert_exporter": "python",
   "pygments_lexer": "ipython3",
   "version": "3.13.3"
  }
 },
 "nbformat": 4,
 "nbformat_minor": 5
}
