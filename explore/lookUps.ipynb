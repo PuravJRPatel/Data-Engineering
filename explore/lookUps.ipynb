{
 "cells": [
  {
   "cell_type": "markdown",
   "id": "8c81edc8",
   "metadata": {},
   "source": [
    "using R after dataframes to flag relavance"
   ]
  },
  {
   "cell_type": "code",
   "execution_count": 1,
   "id": "b894fb44",
   "metadata": {},
   "outputs": [],
   "source": [
    "import numpy as np\n",
    "import pandas as pd\n",
    "import matplotlib.pyplot as plt"
   ]
  },
  {
   "cell_type": "markdown",
   "id": "2b331b87",
   "metadata": {},
   "source": [
    "Player Information"
   ]
  },
  {
   "cell_type": "code",
   "execution_count": 2,
   "id": "fba3f154",
   "metadata": {},
   "outputs": [],
   "source": [
    "df_PlayerInformation = pd.read_csv(\"/Users/puravpatel/Documents/Programming/Data-Engineering/raw_data/csv/common_player_info.csv\")"
   ]
  },
  {
   "cell_type": "code",
   "execution_count": 3,
   "id": "9b826be8",
   "metadata": {},
   "outputs": [
    {
     "name": "stdout",
     "output_type": "stream",
     "text": [
      "Index(['person_id', 'first_name', 'last_name', 'display_first_last',\n",
      "       'display_last_comma_first', 'display_fi_last', 'player_slug',\n",
      "       'birthdate', 'school', 'country', 'last_affiliation', 'height',\n",
      "       'weight', 'season_exp', 'jersey', 'position', 'rosterstatus',\n",
      "       'games_played_current_season_flag', 'team_id', 'team_name',\n",
      "       'team_abbreviation', 'team_code', 'team_city', 'playercode',\n",
      "       'from_year', 'to_year', 'dleague_flag', 'nba_flag', 'games_played_flag',\n",
      "       'draft_year', 'draft_round', 'draft_number', 'greatest_75_flag'],\n",
      "      dtype='object')\n"
     ]
    }
   ],
   "source": [
    "print(df_PlayerInformation.columns)"
   ]
  },
  {
   "cell_type": "code",
   "execution_count": null,
   "id": "d1565166",
   "metadata": {},
   "outputs": [],
   "source": [
    "# available relavant fields : person_id, first_name, last_name. birthdate, school, country, last_affiliation, height, weight, season_exp, jersey, position, rosterstatus, team_id, team_name\n",
    "#                             team_code, playercode, from_year, to_year, games_played_flag, draft_year, draft, round, draft_number"
   ]
  },
  {
   "cell_type": "code",
   "execution_count": 4,
   "id": "cd001e45",
   "metadata": {},
   "outputs": [],
   "source": [
    "df_PlayerInformation_R = df_PlayerInformation[['person_id', 'first_name', 'last_name', \n",
    "       'birthdate', 'school', 'country', 'last_affiliation', 'height',\n",
    "       'weight', 'season_exp', 'jersey', 'position', 'rosterstatus',\n",
    "       'games_played_current_season_flag', 'team_id', 'team_name',\n",
    "       'team_code', 'playercode',\n",
    "       'from_year', 'to_year', 'games_played_flag',\n",
    "       'draft_year', 'draft_round', 'draft_number', 'greatest_75_flag']]"
   ]
  },
  {
   "cell_type": "code",
   "execution_count": 5,
   "id": "6e972e3e",
   "metadata": {},
   "outputs": [],
   "source": [
    "df_DraftInformation = pd.read_csv(\"/Users/puravpatel/Documents/Programming/Data-Engineering/raw_data/csv/draft_history.csv\")"
   ]
  },
  {
   "cell_type": "code",
   "execution_count": 6,
   "id": "6dae7e73",
   "metadata": {},
   "outputs": [
    {
     "name": "stdout",
     "output_type": "stream",
     "text": [
      "Index(['person_id', 'player_name', 'season', 'round_number', 'round_pick',\n",
      "       'overall_pick', 'draft_type', 'team_id', 'team_city', 'team_name',\n",
      "       'team_abbreviation', 'organization', 'organization_type',\n",
      "       'player_profile_flag'],\n",
      "      dtype='object')\n"
     ]
    }
   ],
   "source": [
    "print(df_DraftInformation.columns)"
   ]
  },
  {
   "cell_type": "code",
   "execution_count": 7,
   "id": "3cf192dd",
   "metadata": {},
   "outputs": [],
   "source": [
    "df_DraftInformation_R = df_DraftInformation[['person_id', 'player_name', 'season', 'round_number', 'round_pick',\n",
    "       'overall_pick', 'draft_type', 'team_id', 'team_name',\n",
    "       'team_abbreviation', 'organization', 'organization_type',\n",
    "       'player_profile_flag']]"
   ]
  },
  {
   "cell_type": "code",
   "execution_count": 9,
   "id": "d4083a43",
   "metadata": {},
   "outputs": [],
   "source": [
    "df_GameInformation = pd.read_csv(\"/Users/puravpatel/Documents/Programming/Data-Engineering/raw_data/csv/game_info.csv\")\n"
   ]
  },
  {
   "cell_type": "code",
   "execution_count": 11,
   "id": "701ef04d",
   "metadata": {},
   "outputs": [],
   "source": [
    "df_GameSum = pd.read_csv(\"/Users/puravpatel/Documents/Programming/Data-Engineering/raw_data/csv/game_summary.csv\")\n"
   ]
  },
  {
   "cell_type": "code",
   "execution_count": 13,
   "id": "85bac424",
   "metadata": {},
   "outputs": [
    {
     "data": {
      "text/html": [
       "<div>\n",
       "<style scoped>\n",
       "    .dataframe tbody tr th:only-of-type {\n",
       "        vertical-align: middle;\n",
       "    }\n",
       "\n",
       "    .dataframe tbody tr th {\n",
       "        vertical-align: top;\n",
       "    }\n",
       "\n",
       "    .dataframe thead th {\n",
       "        text-align: right;\n",
       "    }\n",
       "</style>\n",
       "<table border=\"1\" class=\"dataframe\">\n",
       "  <thead>\n",
       "    <tr style=\"text-align: right;\">\n",
       "      <th></th>\n",
       "      <th>game_date_est</th>\n",
       "      <th>game_sequence</th>\n",
       "      <th>game_id</th>\n",
       "      <th>game_status_id</th>\n",
       "      <th>game_status_text</th>\n",
       "      <th>gamecode</th>\n",
       "      <th>home_team_id</th>\n",
       "      <th>visitor_team_id</th>\n",
       "      <th>season</th>\n",
       "      <th>live_period</th>\n",
       "      <th>live_pc_time</th>\n",
       "      <th>natl_tv_broadcaster_abbreviation</th>\n",
       "      <th>live_period_time_bcast</th>\n",
       "      <th>wh_status</th>\n",
       "    </tr>\n",
       "  </thead>\n",
       "  <tbody>\n",
       "    <tr>\n",
       "      <th>58107</th>\n",
       "      <td>2023-06-12 00:00:00</td>\n",
       "      <td>1.0</td>\n",
       "      <td>42200405</td>\n",
       "      <td>3</td>\n",
       "      <td>Final</td>\n",
       "      <td>20230612/MIADEN</td>\n",
       "      <td>1610612743</td>\n",
       "      <td>1610612748</td>\n",
       "      <td>2022</td>\n",
       "      <td>4</td>\n",
       "      <td></td>\n",
       "      <td>ABC</td>\n",
       "      <td>Q4       - ABC</td>\n",
       "      <td>1</td>\n",
       "    </tr>\n",
       "    <tr>\n",
       "      <th>58108</th>\n",
       "      <td>2023-02-19 00:00:00</td>\n",
       "      <td>1.0</td>\n",
       "      <td>32200001</td>\n",
       "      <td>3</td>\n",
       "      <td>Final</td>\n",
       "      <td>20230219/GNSLBN</td>\n",
       "      <td>1610616834</td>\n",
       "      <td>1610616833</td>\n",
       "      <td>2022</td>\n",
       "      <td>4</td>\n",
       "      <td></td>\n",
       "      <td>TNT/TBS</td>\n",
       "      <td>Q4       - TNT/TBS</td>\n",
       "      <td>1</td>\n",
       "    </tr>\n",
       "    <tr>\n",
       "      <th>58109</th>\n",
       "      <td>2023-02-19 00:00:00</td>\n",
       "      <td>1.0</td>\n",
       "      <td>32200001</td>\n",
       "      <td>3</td>\n",
       "      <td>Final</td>\n",
       "      <td>20230219/GNSLBN</td>\n",
       "      <td>1610616834</td>\n",
       "      <td>1610616833</td>\n",
       "      <td>2022</td>\n",
       "      <td>4</td>\n",
       "      <td></td>\n",
       "      <td>TNT/TBS</td>\n",
       "      <td>Q4       - TNT/TBS</td>\n",
       "      <td>1</td>\n",
       "    </tr>\n",
       "  </tbody>\n",
       "</table>\n",
       "</div>"
      ],
      "text/plain": [
       "             game_date_est  game_sequence   game_id  game_status_id  \\\n",
       "58107  2023-06-12 00:00:00            1.0  42200405               3   \n",
       "58108  2023-02-19 00:00:00            1.0  32200001               3   \n",
       "58109  2023-02-19 00:00:00            1.0  32200001               3   \n",
       "\n",
       "      game_status_text         gamecode  home_team_id  visitor_team_id  \\\n",
       "58107            Final  20230612/MIADEN    1610612743       1610612748   \n",
       "58108            Final  20230219/GNSLBN    1610616834       1610616833   \n",
       "58109            Final  20230219/GNSLBN    1610616834       1610616833   \n",
       "\n",
       "       season  live_period live_pc_time natl_tv_broadcaster_abbreviation  \\\n",
       "58107    2022            4                                           ABC   \n",
       "58108    2022            4                                       TNT/TBS   \n",
       "58109    2022            4                                       TNT/TBS   \n",
       "\n",
       "      live_period_time_bcast  wh_status  \n",
       "58107         Q4       - ABC          1  \n",
       "58108     Q4       - TNT/TBS          1  \n",
       "58109     Q4       - TNT/TBS          1  "
      ]
     },
     "execution_count": 13,
     "metadata": {},
     "output_type": "execute_result"
    }
   ],
   "source": [
    "df_GameSum.tail(3)"
   ]
  },
  {
   "cell_type": "code",
   "execution_count": 14,
   "id": "395915a4",
   "metadata": {},
   "outputs": [],
   "source": [
    "df_Game = pd.read_csv(\"/Users/puravpatel/Documents/Programming/Data-Engineering/raw_data/csv/game.csv\")"
   ]
  },
  {
   "cell_type": "code",
   "execution_count": 17,
   "id": "028e073f",
   "metadata": {},
   "outputs": [
    {
     "name": "stdout",
     "output_type": "stream",
     "text": [
      "Index(['season_id', 'team_id_home', 'team_abbreviation_home', 'team_name_home',\n",
      "       'game_id', 'game_date', 'matchup_home', 'wl_home', 'min', 'fgm_home',\n",
      "       'fga_home', 'fg_pct_home', 'fg3m_home', 'fg3a_home', 'fg3_pct_home',\n",
      "       'ftm_home', 'fta_home', 'ft_pct_home', 'oreb_home', 'dreb_home',\n",
      "       'reb_home', 'ast_home', 'stl_home', 'blk_home', 'tov_home', 'pf_home',\n",
      "       'pts_home', 'plus_minus_home', 'video_available_home', 'team_id_away',\n",
      "       'team_abbreviation_away', 'team_name_away', 'matchup_away', 'wl_away',\n",
      "       'fgm_away', 'fga_away', 'fg_pct_away', 'fg3m_away', 'fg3a_away',\n",
      "       'fg3_pct_away', 'ftm_away', 'fta_away', 'ft_pct_away', 'oreb_away',\n",
      "       'dreb_away', 'reb_away', 'ast_away', 'stl_away', 'blk_away', 'tov_away',\n",
      "       'pf_away', 'pts_away', 'plus_minus_away', 'video_available_away',\n",
      "       'season_type'],\n",
      "      dtype='object')\n"
     ]
    }
   ],
   "source": [
    "print(df_Game.columns)"
   ]
  },
  {
   "cell_type": "code",
   "execution_count": 18,
   "id": "b68f6a91",
   "metadata": {},
   "outputs": [],
   "source": [
    "df_Game_R = df_Game[['season_id', 'team_id_home', 'team_abbreviation_home', 'team_name_home',\n",
    "       'game_id', 'game_date', 'matchup_home', 'wl_home', 'min', 'fgm_home',\n",
    "       'fga_home', 'fg_pct_home', 'fg3m_home', 'fg3a_home', 'fg3_pct_home',\n",
    "       'ftm_home', 'fta_home', 'ft_pct_home', 'oreb_home', 'dreb_home',\n",
    "       'reb_home', 'ast_home', 'stl_home', 'blk_home', 'tov_home', 'pf_home',\n",
    "       'pts_home', 'plus_minus_home', 'team_id_away',\n",
    "       'team_abbreviation_away', 'team_name_away', 'matchup_away', 'wl_away',\n",
    "       'fgm_away', 'fga_away', 'fg_pct_away', 'fg3m_away', 'fg3a_away',\n",
    "       'fg3_pct_away', 'ftm_away', 'fta_away', 'ft_pct_away', 'oreb_away',\n",
    "       'dreb_away', 'reb_away', 'ast_away', 'stl_away', 'blk_away', 'tov_away',\n",
    "       'pf_away', 'pts_away', 'plus_minus_away', \n",
    "       'season_type']]"
   ]
  },
  {
   "cell_type": "markdown",
   "id": "ff1921a2",
   "metadata": {},
   "source": [
    "Current Most Important and Relevant tables: Common Player Information, Draft History, Game"
   ]
  },
  {
   "cell_type": "code",
   "execution_count": 19,
   "id": "1f2b029d",
   "metadata": {},
   "outputs": [],
   "source": [
    "df_LineScore = pd.read_csv(\"/Users/puravpatel/Documents/Programming/Data-Engineering/raw_data/csv/line_score.csv\")"
   ]
  },
  {
   "cell_type": "code",
   "execution_count": 22,
   "id": "9b54ea71",
   "metadata": {},
   "outputs": [
    {
     "name": "stdout",
     "output_type": "stream",
     "text": [
      "Index(['game_date_est', 'game_sequence', 'game_id', 'team_id_home',\n",
      "       'team_abbreviation_home', 'team_city_name_home', 'team_nickname_home',\n",
      "       'team_wins_losses_home', 'pts_qtr1_home', 'pts_qtr2_home',\n",
      "       'pts_qtr3_home', 'pts_qtr4_home', 'pts_ot1_home', 'pts_ot2_home',\n",
      "       'pts_ot3_home', 'pts_ot4_home', 'pts_ot5_home', 'pts_ot6_home',\n",
      "       'pts_ot7_home', 'pts_ot8_home', 'pts_ot9_home', 'pts_ot10_home',\n",
      "       'pts_home', 'team_id_away', 'team_abbreviation_away',\n",
      "       'team_city_name_away', 'team_nickname_away', 'team_wins_losses_away',\n",
      "       'pts_qtr1_away', 'pts_qtr2_away', 'pts_qtr3_away', 'pts_qtr4_away',\n",
      "       'pts_ot1_away', 'pts_ot2_away', 'pts_ot3_away', 'pts_ot4_away',\n",
      "       'pts_ot5_away', 'pts_ot6_away', 'pts_ot7_away', 'pts_ot8_away',\n",
      "       'pts_ot9_away', 'pts_ot10_away', 'pts_away'],\n",
      "      dtype='object')\n"
     ]
    }
   ],
   "source": [
    "print(df_LineScore.columns)"
   ]
  },
  {
   "cell_type": "code",
   "execution_count": 24,
   "id": "b8ae76a7",
   "metadata": {},
   "outputs": [],
   "source": [
    "df_LineScore_R = [['game_date_est', 'game_sequence', 'game_id', 'team_id_home',\n",
    "       'team_abbreviation_home', 'team_city_name_home', 'team_nickname_home',\n",
    "       'team_wins_losses_home', 'pts_qtr1_home', 'pts_qtr2_home',\n",
    "       'pts_qtr3_home', 'pts_qtr4_home', 'pts_ot1_home', 'pts_ot2_home',\n",
    "       'pts_ot3_home', 'pts_ot4_home', 'pts_ot5_home', 'pts_ot6_home',\n",
    "       'pts_ot7_home', 'pts_ot8_home', 'pts_ot9_home', 'pts_ot10_home',\n",
    "       'pts_home', 'team_id_away', 'team_abbreviation_away',\n",
    "       'team_city_name_away', 'team_nickname_away', 'team_wins_losses_away',\n",
    "       'pts_qtr1_away', 'pts_qtr2_away', 'pts_qtr3_away', 'pts_qtr4_away',\n",
    "       'pts_ot1_away', 'pts_ot2_away', 'pts_ot3_away', 'pts_ot4_away',\n",
    "       'pts_ot5_away', 'pts_ot6_away', 'pts_ot7_away', 'pts_ot8_away',\n",
    "       'pts_ot9_away', 'pts_ot10_away', 'pts_away']]"
   ]
  },
  {
   "cell_type": "code",
   "execution_count": 27,
   "id": "abd91206",
   "metadata": {},
   "outputs": [],
   "source": [
    "df_OtherStats_R = pd.read_csv(\"/Users/puravpatel/Documents/Programming/Data-Engineering/raw_data/csv/other_stats.csv\")"
   ]
  },
  {
   "cell_type": "code",
   "execution_count": 30,
   "id": "e959ece4",
   "metadata": {},
   "outputs": [],
   "source": [
    "df_Player_R = pd.read_csv(\"/Users/puravpatel/Documents/Programming/Data-Engineering/raw_data/csv/player.csv\")"
   ]
  },
  {
   "cell_type": "code",
   "execution_count": 32,
   "id": "1cf64417",
   "metadata": {},
   "outputs": [],
   "source": [
    "df_TeamDetails = pd.read_csv(\"/Users/puravpatel/Documents/Programming/Data-Engineering/raw_data/csv/team_details.csv\")"
   ]
  },
  {
   "cell_type": "code",
   "execution_count": 33,
   "id": "3717c699",
   "metadata": {},
   "outputs": [
    {
     "name": "stdout",
     "output_type": "stream",
     "text": [
      "Index(['team_id', 'abbreviation', 'nickname', 'yearfounded', 'city', 'arena',\n",
      "       'arenacapacity', 'owner', 'generalmanager', 'headcoach',\n",
      "       'dleagueaffiliation', 'facebook', 'instagram', 'twitter'],\n",
      "      dtype='object')\n"
     ]
    }
   ],
   "source": [
    "print(df_TeamDetails.columns)"
   ]
  },
  {
   "cell_type": "code",
   "execution_count": 34,
   "id": "a2bc06aa",
   "metadata": {},
   "outputs": [],
   "source": [
    "df_TeamDetails_R = df_TeamDetails[['team_id', 'abbreviation', 'nickname', 'yearfounded', 'city', 'arena',\n",
    "       'arenacapacity', 'owner', 'generalmanager', 'headcoach']]"
   ]
  },
  {
   "cell_type": "code",
   "execution_count": 35,
   "id": "e6c02a64",
   "metadata": {},
   "outputs": [],
   "source": [
    "df_TeamCommonInformation = pd.read_csv(\"/Users/puravpatel/Documents/Programming/Data-Engineering/raw_data/csv/team_info_common.csv\")"
   ]
  },
  {
   "cell_type": "code",
   "execution_count": 36,
   "id": "e5d0d284",
   "metadata": {},
   "outputs": [
    {
     "name": "stdout",
     "output_type": "stream",
     "text": [
      "Index(['team_id', 'season_year', 'team_city', 'team_name', 'team_abbreviation',\n",
      "       'team_conference', 'team_division', 'team_code', 'team_slug', 'w', 'l',\n",
      "       'pct', 'conf_rank', 'div_rank', 'min_year', 'max_year', 'league_id',\n",
      "       'season_id', 'pts_rank', 'pts_pg', 'reb_rank', 'reb_pg', 'ast_rank',\n",
      "       'ast_pg', 'opp_pts_rank', 'opp_pts_pg'],\n",
      "      dtype='object')\n"
     ]
    }
   ],
   "source": [
    "print(df_TeamCommonInformation.columns)"
   ]
  },
  {
   "cell_type": "code",
   "execution_count": 37,
   "id": "9306d049",
   "metadata": {},
   "outputs": [],
   "source": [
    "df_TeamCommonInformation_R = df_TeamCommonInformation[['team_id', 'season_year', 'team_city', 'team_name', 'team_abbreviation',\n",
    "       'team_conference', 'team_division', 'team_code', 'team_slug', 'w', 'l',\n",
    "       'pct', 'conf_rank', 'div_rank', 'min_year', 'max_year', 'league_id',\n",
    "       'season_id', 'pts_rank', 'pts_pg', 'reb_rank', 'reb_pg', 'ast_rank',\n",
    "       'ast_pg', 'opp_pts_rank', 'opp_pts_pg']]"
   ]
  },
  {
   "cell_type": "code",
   "execution_count": 38,
   "id": "37a9d0d0",
   "metadata": {},
   "outputs": [],
   "source": [
    "df_team = pd.read_csv(\"/Users/puravpatel/Documents/Programming/Data-Engineering/raw_data/csv/team.csv\")"
   ]
  },
  {
   "cell_type": "code",
   "execution_count": 39,
   "id": "89daaaf3",
   "metadata": {},
   "outputs": [
    {
     "name": "stdout",
     "output_type": "stream",
     "text": [
      "Index(['id', 'full_name', 'abbreviation', 'nickname', 'city', 'state',\n",
      "       'year_founded'],\n",
      "      dtype='object')\n"
     ]
    }
   ],
   "source": [
    "print(df_team.columns)"
   ]
  },
  {
   "cell_type": "code",
   "execution_count": null,
   "id": "3a818696",
   "metadata": {},
   "outputs": [],
   "source": []
  }
 ],
 "metadata": {
  "kernelspec": {
   "display_name": "Python 3",
   "language": "python",
   "name": "python3"
  },
  "language_info": {
   "codemirror_mode": {
    "name": "ipython",
    "version": 3
   },
   "file_extension": ".py",
   "mimetype": "text/x-python",
   "name": "python",
   "nbconvert_exporter": "python",
   "pygments_lexer": "ipython3",
   "version": "3.13.3"
  }
 },
 "nbformat": 4,
 "nbformat_minor": 5
}
